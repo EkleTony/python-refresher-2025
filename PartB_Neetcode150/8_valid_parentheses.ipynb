{
 "cells": [
  {
   "cell_type": "markdown",
   "id": "d90201a3-56d1-45db-96cc-2fde54b09c99",
   "metadata": {},
   "source": [
    "## Valid Parentheses\n",
    "\n",
    "* Given a String s containing just the characters '{', ')', '{', '[' and ']', determine if the input string is valid.\n",
    "\n",
    "* `Valid if if statisfies this:`\n",
    "    1. Open bracket must be closed by the same type of brackets\n",
    "    2. Open bracket must be closed in the correct order\n",
    "    3. Every closed bracket has a corresponding open bracket of the same type"
   ]
  },
  {
   "cell_type": "code",
   "execution_count": 7,
   "id": "73b46f6f-8c18-48ab-85f6-90f93467696c",
   "metadata": {},
   "outputs": [
    {
     "data": {
      "text/plain": [
       "True"
      ]
     },
     "execution_count": 7,
     "metadata": {},
     "output_type": "execute_result"
    }
   ],
   "source": [
    "def validParentheses(st):\n",
    "    \"\"\" =========Steps ========\n",
    "        1. We use a stack to keep track of opening brackets. and dict for mapping\n",
    "        2. For every closing bracket, we check if it matches the last item in the stack.\n",
    "        3 If it doesn’t, the string is invalid.\n",
    "        4. At the end, if the stack is empty, the string is valid.\n",
    "    \"\"\"\n",
    "    hashmap = {')': '(', '}': '{', ']': '['}\n",
    "\n",
    "    stack = [] # last in first in, .append(), .pop()\n",
    "    for char in st:\n",
    "        if char not in hashmap:\n",
    "            stack.append(char)\n",
    "        else:\n",
    "            if not stack or stack.pop() != hashmap[char]:\n",
    "                return False\n",
    "    return not stack\n",
    "\n",
    "# time = O(n) and space = O()\n",
    "validParentheses(\"()()\")"
   ]
  },
  {
   "cell_type": "code",
   "execution_count": null,
   "id": "7c9b8d07-6315-46e2-a1a1-4cb54c62ef1d",
   "metadata": {},
   "outputs": [],
   "source": []
  }
 ],
 "metadata": {
  "kernelspec": {
   "display_name": "Python 3 (ipykernel)",
   "language": "python",
   "name": "python3"
  },
  "language_info": {
   "codemirror_mode": {
    "name": "ipython",
    "version": 3
   },
   "file_extension": ".py",
   "mimetype": "text/x-python",
   "name": "python",
   "nbconvert_exporter": "python",
   "pygments_lexer": "ipython3",
   "version": "3.11.11"
  }
 },
 "nbformat": 4,
 "nbformat_minor": 5
}
