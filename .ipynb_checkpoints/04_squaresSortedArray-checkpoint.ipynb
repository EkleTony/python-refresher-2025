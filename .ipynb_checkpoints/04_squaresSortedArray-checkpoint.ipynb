{
 "cells": [
  {
   "cell_type": "markdown",
   "id": "161f71e1-6c2f-43aa-b547-80d48ab21dfb",
   "metadata": {},
   "source": [
    "# 977 Square of Sorted Array\n",
    "* Given an integer array `nums` sorted in non-decreasing order, return an array of `the squares of each numbers` sorted in non-decreasing order."
   ]
  },
  {
   "cell_type": "code",
   "execution_count": 30,
   "id": "62423fc4-98a3-4ff1-9773-d9e72daf023e",
   "metadata": {},
   "outputs": [],
   "source": [
    "def squareSortedArray(nums):\n",
    "    # input: = [-4,-1,0,3,10] \n",
    "    # output = [0,1,9,16,100]\n",
    "    x = sorted([i*i for i in nums]) # loop =n , and sorting is nlgn i.e Time= O(n + nlogn) =. O(nlogn) and space = O(n)\n",
    "    return x\n",
    "\n",
    "# Using two pointers\n",
    "def squareSortedArray2(nums):\n",
    "    l = 0\n",
    "    r = len(nums) -1\n",
    "    res = []\n",
    "    while l<=r:\n",
    "        if abs(nums[l]) > abs(nums[r]):\n",
    "            res.append(nums[l]**2)\n",
    "            l += 1\n",
    "        else:\n",
    "            res.append(nums[r]**2)\n",
    "            r -= 1\n",
    "\n",
    "    return res[::-1]"
   ]
  },
  {
   "cell_type": "code",
   "execution_count": 31,
   "id": "bfeb6071-09e9-41ce-99a2-6972da92a9c0",
   "metadata": {},
   "outputs": [
    {
     "data": {
      "text/plain": [
       "[0, 1, 9, 16, 100]"
      ]
     },
     "execution_count": 31,
     "metadata": {},
     "output_type": "execute_result"
    }
   ],
   "source": [
    "# examples\n",
    "x = [-4,-1,0,3,10] \n",
    "squareSortedArray(x)"
   ]
  },
  {
   "cell_type": "code",
   "execution_count": 32,
   "id": "4e6e7ea0-0933-444b-90d7-e7e84f189e84",
   "metadata": {},
   "outputs": [
    {
     "data": {
      "text/plain": [
       "[0, 1, 9, 16, 100]"
      ]
     },
     "execution_count": 32,
     "metadata": {},
     "output_type": "execute_result"
    }
   ],
   "source": [
    "squareSortedArray2(x)"
   ]
  },
  {
   "cell_type": "code",
   "execution_count": null,
   "id": "e62b2100-1acf-4d73-9538-e8bdf6ab2b95",
   "metadata": {},
   "outputs": [],
   "source": []
  }
 ],
 "metadata": {
  "kernelspec": {
   "display_name": "Python 3 (ipykernel)",
   "language": "python",
   "name": "python3"
  },
  "language_info": {
   "codemirror_mode": {
    "name": "ipython",
    "version": 3
   },
   "file_extension": ".py",
   "mimetype": "text/x-python",
   "name": "python",
   "nbconvert_exporter": "python",
   "pygments_lexer": "ipython3",
   "version": "3.11.11"
  }
 },
 "nbformat": 4,
 "nbformat_minor": 5
}
