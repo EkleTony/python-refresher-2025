{
 "cells": [
  {
   "cell_type": "markdown",
   "id": "a5902952-dbbb-477d-aac2-c5605cf59085",
   "metadata": {},
   "source": [
    "## Group Anagrams\n",
    "* Given an array of string `strs`, group the anagrams together. You can return the answer in any other."
   ]
  },
  {
   "cell_type": "code",
   "execution_count": null,
   "id": "e524b566-f2cc-4d50-b461-831862cc37d5",
   "metadata": {},
   "outputs": [
    {
     "data": {
      "text/plain": [
       "[['eat', 'tea', 'ate'], ['tan', 'nat'], ['bat']]"
      ]
     },
     "execution_count": 8,
     "metadata": {},
     "output_type": "execute_result"
    }
   ],
   "source": [
    "from collections import defaultdict\n",
    "strs = [\"eat\", \"tea\", \"tan\", \"ate\", \"nat\", \"bat\"]\n",
    "# output = [\"bat\"], [\"nat\", \"tan\"], [\"ate\", \"eat\", \"tea\"]\n",
    "\n",
    "\n",
    "def groupAnagrams(strs):\n",
    "    anagram = defaultdict(list)\n",
    "    result = []\n",
    "\n",
    "    for st in strs:\n",
    "        key_s = ''.join(sorted(st))\n",
    "        anagram[key_s].append(st)\n",
    "    for val in anagram.values():\n",
    "        result.append(val)\n",
    "    return result\n",
    "\n",
    "    # anagram[key] =\n",
    "groupAnagrams(strs)"
   ]
  },
  {
   "cell_type": "code",
   "execution_count": null,
   "id": "3e2e10c2-1002-4671-ba40-2acffff3fce7",
   "metadata": {},
   "outputs": [],
   "source": []
  }
 ],
 "metadata": {
  "kernelspec": {
   "display_name": "Python 3 (ipykernel)",
   "language": "python",
   "name": "python3"
  },
  "language_info": {
   "codemirror_mode": {
    "name": "ipython",
    "version": 3
   },
   "file_extension": ".py",
   "mimetype": "text/x-python",
   "name": "python",
   "nbconvert_exporter": "python",
   "pygments_lexer": "ipython3",
   "version": "3.11.11"
  }
 },
 "nbformat": 4,
 "nbformat_minor": 5
}
