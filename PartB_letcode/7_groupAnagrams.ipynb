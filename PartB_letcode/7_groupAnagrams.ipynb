{
 "cells": [
  {
   "cell_type": "markdown",
   "id": "a5902952-dbbb-477d-aac2-c5605cf59085",
   "metadata": {},
   "source": [
    "## Group Anagrams\n",
    "* Given an array of string `strs`, group the anagrams together. You can return the answer in any other."
   ]
  },
  {
   "cell_type": "code",
   "execution_count": 8,
   "id": "e524b566-f2cc-4d50-b461-831862cc37d5",
   "metadata": {},
   "outputs": [
    {
     "data": {
      "text/plain": [
       "[['eat', 'tea', 'ate'], ['tan', 'nat'], ['bat']]"
      ]
     },
     "execution_count": 8,
     "metadata": {},
     "output_type": "execute_result"
    }
   ],
   "source": [
    "strs = [\"eat\", \"tea\", \"tan\", \"ate\", \"nat\", \"bat\"]\n",
    "# output = [\"bat\"], [\"nat\", \"tan\"], [\"ate\", \"eat\", \"tea\"]\n",
    "\n",
    "from collections import defaultdict\n",
    "def groupAnagrams(strs):\n",
    "    ana