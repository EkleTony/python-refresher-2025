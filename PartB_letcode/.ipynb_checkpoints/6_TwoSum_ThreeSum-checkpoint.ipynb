{
 "cells": [
  {
   "cell_type": "markdown",
   "id": "aae1f0e5-6406-4fed-a961-989922b1ff0d",
   "metadata": {},
   "source": [
    "## Two Sum\n",
    "* Given an array of integers nums and an integer target, return indices of `two numbers` such that they add up to `target`"
   ]
  },
  {
   "cell_type": "code",
   "execution_count": 4,
   "id": "85fba44f-b81a-4d1d-82ef-ae4bba9fa8a2",
   "metadata": {},
   "outputs": [
    {
     "data": {
      "text/plain": [
       "([2, 7], ' = ', [0, 1])"
      ]
     },
     "execution_count": 4,
     "metadata": {},
     "output_type": "execute_result"
    }
   ],
   "source": [
    "nums = [2,7,11,15] \n",
    "target = 9 \n",
    "# output = [0,1] i,e 2+7 = 9\n",
    "\n",
    "def twoSum1(nums, target):\n",
    "    for i in range(len(nums)):\n",
    "        for j in range(i, len(nums)):\n",
    "            sum1 = nums[i] + nums[j]\n",
    "            if sum1 == target:\n",
    "                return [nums[i], nums[j]], \" = \", [i, j]\n",
    "# time = O(n^2) \n",
    "# space = O(n)\n",
    "twoSum1(nums, 9)\n"
   ]
  },
  {
   "cell_type": "code",
   "execution_count": 13,
   "id": "b060f092-9f03-49d9-b940-3f297d3a86f1",
   "metadata": {},
   "outputs": [
    {
     "data": {
      "text/plain": [
       "([1, ' and ', 1], ' = ', [1, 4])"
      ]
     },
     "execution_count": 13,
     "metadata": {},
     "output_type": "execute_result"
    }
   ],
   "source": [
    "\n",
    "def twoSum2(nums, target):\n",
    "    # using two pointers\n",
    "    l = 0\n",
    "    r = len(nums) -1\n",
    "\n",
    "    while l<r:\n",
    "        sum1 = nums[l] + nums[r]\n",
    "        if sum1 == target:\n",
    "            return [nums[l], ' and ', nums[l]], \" = \", [l, r]\n",
    "        else:\n",
    "            if sum1 < target:\n",
    "                l+= 1\n",
    "            else:\n",
    "                r -= 1\n",
    "\n",
    "arr = [0, 1,2,4,5,7,8,9]\n",
    "\n",
    "twoSum2(arr, 6)"
   ]
  },
  {
   "cell_type": "code",
   "execution_count": null,
   "id": "064bc6e8-6f7f-4034-af46-c145f5ce9e1c",
   "metadata": {},
   "outputs": [],
   "source": []
  }
 ],
 "metadata": {
  "kernelspec": {
   "display_name": "Python 3 (ipykernel)",
   "language": "python",
   "name": "python3"
  },
  "language_info": {
   "codemirror_mode": {
    "name": "ipython",
    "version": 3
   },
   "file_extension": ".py",
   "mimetype": "text/x-python",
   "name": "python",
   "nbconvert_exporter": "python",
   "pygments_lexer": "ipython3",
   "version": "3.11.11"
  }
 },
 "nbformat": 4,
 "nbformat_minor": 5
}
