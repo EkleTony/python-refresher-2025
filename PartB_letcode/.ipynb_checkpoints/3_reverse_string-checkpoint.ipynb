{
 "cells": [
  {
   "cell_type": "markdown",
   "id": "780e20f7-8536-42c0-9742-700c302b15fe",
   "metadata": {},
   "source": [
    "## Leetcode 344--- Reverse String\n",
    "\n",
    "* Write a function that reverse a string. the input is given as an array of char s.\n",
    "\n",
    "* input = [\"h\", \"e\", \"l\", \"l\"]\n",
    "\n",
    "* output = [\"l\", \"l\", \"e\", \"h\"]\n",
    "\n",
    "\n"
   ]
  },
  {
   "cell_type": "code",
   "execution_count": 25,
   "id": "65f6b267-cefb-4af8-8240-09163c13c017",
   "metadata": {},
   "outputs": [],
   "source": [
    "def reveseString(st):\n",
    "    # using pointers\n",
    "    l = 0\n",
    "    r = len(st) -1\n",
    "\n",
    "    while l<r:\n",
    "        st[l], st[r] = st[r], st[l]\n",
    "        l += 1\n",
    "        r -= 1\n",
    "        return st\n",
    "\n",
    "# Time = O(n)\n",
    "# Space = O(1)\n",
    "\n",
    "\n",
    "# using a stack with recursion, by using the sub-problem---. and pointer\n",
    "def reverseStringStack(st):\n",
    "    #pointers\n",
    "   \n",
    "    # using the recursion\n",
    "    def reverse(l, r):\n",
    "        if l <r:\n",
    "            st[l], st[r] = st[r], st[l]\n",
    "            reverse(l+1, r-1)\n",
    "    l = 0\n",
    "    r = len(st) -1\n",
    "    reverse(l, r)\n",
    "    return st\n",
    "        \n",
    "    "
   ]
  },
  {
   "cell_type": "code",
   "execution_count": 31,
   "id": "a4153180-bf49-4db5-b01e-3ea874967c67",
   "metadata": {},
   "outputs": [
    {
     "name": "stdout",
     "output_type": "stream",
     "text": [
      "['c', 'b', 'a']\n"
     ]
    }
   ],
   "source": [
    "# exmple\n",
    "st = [\"a\", \"b\", \"c\"]\n",
    "x = reveseString(st)\n",
    "print(x)"
   ]
  },
  {
   "cell_type": "code",
   "execution_count": 32,
   "id": "ed9cff71-2f67-4461-b8cd-a4960fbf6bef",
   "metadata": {},
   "outputs": [
    {
     "data": {
      "text/plain": [
       "['c', 'b', 'a']"
      ]
     },
     "execution_count": 32,
     "metadata": {},
     "output_type": "execute_result"
    }
   ],
   "source": [
    "st = [\"a\", \"b\", \"c\"]\n",
    "reverseStringStack(st)"
   ]
  },
  {
   "cell_type": "code",
   "execution_count": 35,
   "id": "c7e3a2ac-a83a-468d-91ce-32b8cc7341b1",
   "metadata": {},
   "outputs": [
    {
     "data": {
      "text/plain": [
       "('reverse is: ', ['o', 'e', 'l', 'l', 'h'])"
      ]
     },
     "execution_count": 35,
     "metadata": {},
     "output_type": "execute_result"
    }
   ],
   "source": [
    "# REversing a string\n",
    "x = [\"h\", \"e\", \"l\", \"l\", \"o\"] # output = [\"o\", \"l\", \"l\", \"e\", \"h\"]\n",
    "\n",
    "def reverseSt(st):\n",
    "    # using two pointers\n",
    "    l = 0\n",
    "    r = len(st) -1\n",
    "    while l<r:\n",
    "        st[l], st[r] = st[r], st[l]\n",
    "        return \"reverse is: \", st\n",
    "reverseSt(x)"
   ]
  },
  {
   "cell_type": "code",
   "execution_count": null,
   "id": "b1c48b2d-74d5-4c41-be48-1c4cccb6d563",
   "metadata": {},
   "outputs": [],
   "source": []
  }
 ],
 "metadata": {
  "kernelspec": {
   "display_name": "Python 3 (ipykernel)",
   "language": "python",
   "name": "python3"
  },
  "language_info": {
   "codemirror_mode": {
    "name": "ipython",
    "version": 3
   },
   "file_extension": ".py",
   "mimetype": "text/x-python",
   "name": "python",
   "nbconvert_exporter": "python",
   "pygments_lexer": "ipython3",
   "version": "3.11.11"
  }
 },
 "nbformat": 4,
 "nbformat_minor": 5
}
