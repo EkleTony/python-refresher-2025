{
 "cells": [
  {
   "cell_type": "markdown",
   "id": "6ebc3f8f-9607-4193-95fa-0f85751cdf50",
   "metadata": {},
   "source": [
    "## Find all duplicates\n",
    "* Given an array find duplicate values "
   ]
  },
  {
   "cell_type": "code",
   "execution_count": 3,
   "id": "6b108001-8784-408b-906c-951bdfa07326",
   "metadata": {},
   "outputs": [
    {
     "data": {
      "text/plain": [
       "{2, 3}"
      ]
     },
     "execution_count": 3,
     "metadata": {},
     "output_type": "execute_result"
    }
   ],
   "source": [
    "def findDuplicates(nums):\n",
    "    # [2,3,4,2,4,5]\n",
    "    seen = set()\n",
    "    res = set()\n",
    "    for i in nums:\n",
    "        if i in seen:\n",
    "            res.add(i)\n",
    "        else:\n",
    "            seen.add(i)\n",
    "    return res\n",
    "\n",
    "    \n",
    "x = [2,3,4,5,6,3,1,2]\n",
    "findDuplicates(x)"
   ]
  },
  {
   "cell_type": "code",
   "execution_count": null,
   "id": "68235d17-5056-44f4-a43d-6c14e80ebd4e",
   "metadata": {},
   "outputs": [],
   "source": []
  }
 ],
 "metadata": {
  "kernelspec": {
   "display_name": "Python 3 (ipykernel)",
   "language": "python",
   "name": "python3"
  },
  "language_info": {
   "codemirror_mode": {
    "name": "ipython",
    "version": 3
   },
   "file_extension": ".py",
   "mimetype": "text/x-python",
   "name": "python",
   "nbconvert_exporter": "python",
   "pygments_lexer": "ipython3",
   "version": "3.11.11"
  }
 },
 "nbformat": 4,
 "nbformat_minor": 5
}
