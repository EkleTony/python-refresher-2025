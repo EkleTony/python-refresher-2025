


def squareSortedArray(nums):
    # input: = [-4,-1,0,3,10] 
    # output = [0,1,9,16,100]
    x = sorted([i*i for i in nums]) # loop =n , and sorting is nlgn i.e Time= O(n + nlogn) =. O(nlogn) and space = O(n)
    return x

# Using two pointers
def squareSortedArray2(nums):
    l = 0
    r = len(nums) -1
    res = []
    while l<=r:
        if abs(nums[l]) > abs(nums[r]):
            res.append(nums[l]**2)
            l += 1
        else:
            res.append(nums[r]**2)
            r -= 1

    return res[::-1]


# examples
x = [-4,-1,0,3,10] 
squareSortedArray(x)


squareSortedArray2(x)


get_ipython().getoutput("pwd")




