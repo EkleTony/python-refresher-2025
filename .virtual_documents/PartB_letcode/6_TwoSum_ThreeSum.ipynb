


nums = [2,7,11,15] 
target = 9 
# output = [0,1] i,e 2+7 = 9

def twoSum1(nums, target):
    for i in range(len(nums)):
        for j in range(i, len(nums)):
            sum1 = nums[i] + nums[j]
            if sum1 == target:
                return [nums[i], nums[j]], " = ", [i, j]
# time = O(n^2) 
# space = O(n)
twoSum1(nums, 9)




def twoSum2(nums, target):
    # using two pointers
    l = 0
    r = len(nums) -1

    while l<r:
        sum1 = nums[l] + nums[r]
        if sum1 == target:
            return [nums[l], ' and ', nums[l]], " = ", [l, r]
        else:
            if sum1 < target:
                l+= 1
            else:
                r -= 1

arr = [0, 1,2,4,5,7,8,9]

twoSum1(arr, 6)








arr = [-3, -3, -2, -1, 0, 1, 2, 2, 3] 

def threeSum1(arr):
    results = []
    for i in range(len(arr)):
        for j in range(i, len(arr)):
            for k in range(j, len(arr)):
                if arr[i] + arr[j] +arr[k] == 0:
                    results.append([arr[i], arr[j], arr[k]]) # , " index is: ", [i, j, k]
    return results
threeSum1(arr)



def threeSum2(arr):
    # sort all
    arr.sort() #  ============================================O(nlogn)
    result = []

    # checking for duplicate triplets
    for i in range(len(arr)): # ===============================O(n)
        if i>0 and arr[i] == arr[i-1]:
            continue # skip the value i

        # now using two pointers
        l = i +1
        r = len(arr)-1

        while l <r: # ================================         ======O(n)
            target = arr[i] + arr[l] + arr[r]
            if target == 0:
                result.append([arr[i], arr[l], arr[r]])

                # checking for duplicates
                while l < r and arr[l] == arr[l+1]: # ==================O(n) ########total while loop = O(n^2)
                    l += 1
                while l<r and arr[r] == arr[r-1]:  # ===================O(n)
                    r -= 1
                # increasing pointers
                l += 1
                r -= 1
            elif target <0:
                l +=1
            else:
                r -= 1
    return result # ===============================Space complexity: O(n) and # time = O(nlogn) + O(n^2) = O(n^2)

#examples
arr = [-3, -3, -2, -1, 0, 1, 2, 2, 3] 
threeSum2(arr)





print(4)





st = "Ababa"
def isPalindrome(st):
    """
        1. to lower
        2. remove punction or numbers
        3. compare with reverse
    """
    lst = []
    st = st.lower()
    for char in st:
        if char.isalnum():
            lst.append(char)
    newstr = ''.join(lst)
    return newstr[::1] == newstr[::-1]

isPalindrome(st)
    



