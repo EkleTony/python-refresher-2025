


def reveseString(st):
    # using pointers
    l = 0
    r = len(st) -1

    while l<r:
        st[l], st[r] = st[r], st[l]
        l += 1
        r -= 1
        return st

# Time = O(n)
# Space = O(1)


# using a stack with recursion, by using the sub-problem---. and pointer
def reverseStringStack(st):
    #pointers
   
    # using the recursion
    def reverse(l, r):
        if l <r:
            st[l], st[r] = st[r], st[l]
            reverse(l+1, r-1)
    l = 0
    r = len(st) -1
    reverse(l, r)
    return st
        
    


# exmple
st = ["a", "b", "c"]
x = reveseString(st)
print(x)


st = ["a", "b", "c"]
reverseStringStack(st)


# REversing a string
x = ["h", "e", "l", "l", "o"] # output = ["o", "l", "l", "e", "h"]

def reverseSt(st):
    # using two pointers
    l = 0
    r = len(st) -1
    while l<r:
        st[l], st[r] = st[r], st[l]
        return "reverse is: ", st
reverseSt(x)



