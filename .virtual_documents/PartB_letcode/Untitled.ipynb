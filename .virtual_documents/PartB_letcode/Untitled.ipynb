


def validParentheses(st):
    """ =========Steps ========
        1. We use a stack to keep track of opening brackets. and dict for mapping
        2. For every closing bracket, we check if it matches the last item in the stack.
        3 If it doesn’t, the string is invalid.
        4. At the end, if the stack is empty, the string is valid.
    """
    hashmap = {')': '(', '}': '{', ']': '['}

    stack = [] # last in first in, .append(), .pop()
    for char in st:
        if char not in hashmap:
            stack.append(char)
        else:
            if not stack or stack.pop() != hashmap[char]:
                return False
    return not stack

# time = O(n) and space = O()
validParentheses("()()")



