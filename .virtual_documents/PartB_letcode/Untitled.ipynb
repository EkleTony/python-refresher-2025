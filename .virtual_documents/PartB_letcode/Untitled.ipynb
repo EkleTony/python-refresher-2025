


strs = ["eat", "tea", "tan", "ate", "nat", "bat"]
# output = ["bat"], ["nat", "tan"], ["ate", "eat", "tea"]

from collections import defaultdict
def groupAnagrams(strs):
    anagram = defaultdict(list)
    result = []

    for st in strs:
        key_s = ''.join(sorted(st))
        anagram[key_s].append(st)
    for val in anagram.values():
        result.append(val)
    return result
    
        #anagram[key] = 
groupAnagrams(strs)



