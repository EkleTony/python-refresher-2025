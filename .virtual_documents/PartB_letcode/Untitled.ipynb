


nums = [2,7,11,15] 
target = 9 
# output = [0,1] i,e 2+7 = 9

def twoSum1(nums, target):
    for i in range(len(nums)):
        for j in range(i, len(nums)):
            sum1 = nums[i] + nums[j]
            if sum1 == target:
                return [nums[i], nums[j]], " = ", [i, j]
# time = O(n^2) 
# space = O(n)
twoSum1(nums, 9)




def twoSum2(nums, target):
    # using two pointers
    l = 0
    r = len(nums) -1

    while l<r:
        sum1 = nums[l] + nums[r]
        if sum1 == target:
            return [nums[l], ' and ', nums[l]], " = ", [l, r]
        else:
            if sum1 < target:
                l+= 1
            else:
                r -= 1

arr = [0, 1,2,4,5,7,8,9]

twoSum1(arr, 6)








st = "Ababa"
def isPalindrome(st):
    """
        1. to lower
        2. remove punction or numbers
        3. compare with reverse
    """
    lst = []
    st = st.lower()
    for char in st:
        if char.isalnum():
            lst.append(char)
    newstr = ''.join(lst)
    return newstr[::1] == newstr[::-1]

isPalindrome(st)
    



